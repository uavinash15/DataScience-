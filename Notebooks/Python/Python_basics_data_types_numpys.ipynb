{
  "nbformat": 4,
  "nbformat_minor": 0,
  "metadata": {
    "colab": {
      "provenance": []
    },
    "kernelspec": {
      "name": "python3",
      "display_name": "Python 3"
    },
    "language_info": {
      "name": "python"
    }
  },
  "cells": [
    {
      "cell_type": "code",
      "source": [
        "a=10\n",
        "b=20\n",
        "if b>a:\n",
        "  print('b is greater than a')"
      ],
      "metadata": {
        "colab": {
          "base_uri": "https://localhost:8080/"
        },
        "id": "NlD4J9xpRr1U",
        "outputId": "28dde648-a590-4b8d-fa4d-db408c617cba"
      },
      "execution_count": 1,
      "outputs": [
        {
          "output_type": "stream",
          "name": "stdout",
          "text": [
            "b is greater than a\n"
          ]
        }
      ]
    },
    {
      "cell_type": "code",
      "execution_count": 2,
      "metadata": {
        "colab": {
          "base_uri": "https://localhost:8080/"
        },
        "id": "cwAj4jzrNMKY",
        "outputId": "3b4ec543-e594-4b60-e9c5-71b1eccd8210"
      },
      "outputs": [
        {
          "output_type": "stream",
          "name": "stdout",
          "text": [
            "x < y\n"
          ]
        }
      ],
      "source": [
        "x = 10\n",
        "y = 12\n",
        " # if x is greater than y\n",
        "if x > y:\n",
        "  print(\"x > y\")\n",
        "# if x is lesser than y\n",
        "elif x < y:\n",
        "  print(\"x < y\")\n",
        "else:\n",
        "  print(\"x = y\")"
      ]
    },
    {
      "cell_type": "code",
      "source": [
        "# Initialize\n",
        "x = 5\n",
        "\n",
        " # True if x is more than 10 or assign False using ternary operator\n",
        "isGreater = True if x > 10 else False\n",
        "print(isGreater)"
      ],
      "metadata": {
        "colab": {
          "base_uri": "https://localhost:8080/"
        },
        "id": "6ESzGx3XNRw9",
        "outputId": "537e6a19-1d08-45d9-80ba-2056acb6615c"
      },
      "execution_count": 3,
      "outputs": [
        {
          "output_type": "stream",
          "name": "stdout",
          "text": [
            "False\n"
          ]
        }
      ]
    },
    {
      "cell_type": "code",
      "source": [
        "numbers=range(1,6)\n"
      ],
      "metadata": {
        "id": "wHNYM6ZRPIrO"
      },
      "execution_count": 4,
      "outputs": []
    },
    {
      "cell_type": "code",
      "source": [
        "numbers"
      ],
      "metadata": {
        "colab": {
          "base_uri": "https://localhost:8080/"
        },
        "id": "yri-kcB6Pi6d",
        "outputId": "3b201dad-7a66-40ad-ec55-0491f23790ff"
      },
      "execution_count": 5,
      "outputs": [
        {
          "output_type": "execute_result",
          "data": {
            "text/plain": [
              "range(1, 6)"
            ]
          },
          "metadata": {},
          "execution_count": 5
        }
      ]
    },
    {
      "cell_type": "code",
      "source": [
        "for i in numbers:\n",
        "  print(i)"
      ],
      "metadata": {
        "colab": {
          "base_uri": "https://localhost:8080/"
        },
        "id": "goE8hNaMPjkO",
        "outputId": "512d8d2e-5b86-4837-e381-7faefe3d353c"
      },
      "execution_count": 6,
      "outputs": [
        {
          "output_type": "stream",
          "name": "stdout",
          "text": [
            "1\n",
            "2\n",
            "3\n",
            "4\n",
            "5\n"
          ]
        }
      ]
    },
    {
      "cell_type": "code",
      "source": [
        "def addElement(a,b):\n",
        "  return a+b"
      ],
      "metadata": {
        "id": "10J98zQMPoXW"
      },
      "execution_count": 7,
      "outputs": []
    },
    {
      "cell_type": "code",
      "source": [
        "result=addElement(2,3)\n",
        "print(result)"
      ],
      "metadata": {
        "colab": {
          "base_uri": "https://localhost:8080/"
        },
        "id": "1FTGWmofROxU",
        "outputId": "6fb8e76e-3c08-4723-9278-67a014ff3653"
      },
      "execution_count": 8,
      "outputs": [
        {
          "output_type": "stream",
          "name": "stdout",
          "text": [
            "5\n"
          ]
        }
      ]
    },
    {
      "cell_type": "code",
      "source": [
        "emptyList=[]"
      ],
      "metadata": {
        "id": "iZ7Pr9CZSE_Y"
      },
      "execution_count": 9,
      "outputs": []
    },
    {
      "cell_type": "code",
      "source": [
        "print(emptyList)\n"
      ],
      "metadata": {
        "colab": {
          "base_uri": "https://localhost:8080/"
        },
        "id": "ENKk8DbaUBlR",
        "outputId": "2a84a05e-ff4d-450b-a636-3f1a2ffaf88a"
      },
      "execution_count": 10,
      "outputs": [
        {
          "output_type": "stream",
          "name": "stdout",
          "text": [
            "[]\n"
          ]
        }
      ]
    },
    {
      "cell_type": "code",
      "source": [
        "batsmen = ['Rohit', 'Dhawan', 'Kohli', 'Rahane', 'Rayudu', 'Dhoni']\n"
      ],
      "metadata": {
        "id": "0QzUrhOMUEA9"
      },
      "execution_count": 11,
      "outputs": []
    },
    {
      "cell_type": "code",
      "source": [
        "batsmen[0]"
      ],
      "metadata": {
        "colab": {
          "base_uri": "https://localhost:8080/",
          "height": 36
        },
        "id": "BXhIQ7U-UH3-",
        "outputId": "3a6dd5ce-8677-4a9f-be45-25ef735ebbd4"
      },
      "execution_count": 12,
      "outputs": [
        {
          "output_type": "execute_result",
          "data": {
            "text/plain": [
              "'Rohit'"
            ],
            "application/vnd.google.colaboratory.intrinsic+json": {
              "type": "string"
            }
          },
          "metadata": {},
          "execution_count": 12
        }
      ]
    },
    {
      "cell_type": "code",
      "source": [
        "batsmen[1]"
      ],
      "metadata": {
        "colab": {
          "base_uri": "https://localhost:8080/",
          "height": 36
        },
        "id": "D-A4TfFWUbBK",
        "outputId": "98a428bc-3de3-414e-ad07-2bb226bd1892"
      },
      "execution_count": 13,
      "outputs": [
        {
          "output_type": "execute_result",
          "data": {
            "text/plain": [
              "'Dhawan'"
            ],
            "application/vnd.google.colaboratory.intrinsic+json": {
              "type": "string"
            }
          },
          "metadata": {},
          "execution_count": 13
        }
      ]
    },
    {
      "cell_type": "code",
      "source": [
        "batsmen[2]"
      ],
      "metadata": {
        "colab": {
          "base_uri": "https://localhost:8080/",
          "height": 36
        },
        "id": "-chvWfOsUelq",
        "outputId": "c0663db9-9ea8-49b6-fe61-ac4bff1cadc5"
      },
      "execution_count": 14,
      "outputs": [
        {
          "output_type": "execute_result",
          "data": {
            "text/plain": [
              "'Kohli'"
            ],
            "application/vnd.google.colaboratory.intrinsic+json": {
              "type": "string"
            }
          },
          "metadata": {},
          "execution_count": 14
        }
      ]
    },
    {
      "cell_type": "code",
      "source": [
        "batsmen[3]"
      ],
      "metadata": {
        "colab": {
          "base_uri": "https://localhost:8080/",
          "height": 36
        },
        "id": "uPHnMVt6UgB9",
        "outputId": "d9c8895c-4a9e-4cc5-da7d-81ada379b555"
      },
      "execution_count": 15,
      "outputs": [
        {
          "output_type": "execute_result",
          "data": {
            "text/plain": [
              "'Rahane'"
            ],
            "application/vnd.google.colaboratory.intrinsic+json": {
              "type": "string"
            }
          },
          "metadata": {},
          "execution_count": 15
        }
      ]
    },
    {
      "cell_type": "code",
      "source": [
        "batsmen[0:2]"
      ],
      "metadata": {
        "colab": {
          "base_uri": "https://localhost:8080/"
        },
        "id": "a53WwxDcUh51",
        "outputId": "e49b78d2-63f6-4fd7-b3b8-d1ea11799b11"
      },
      "execution_count": 16,
      "outputs": [
        {
          "output_type": "execute_result",
          "data": {
            "text/plain": [
              "['Rohit', 'Dhawan']"
            ]
          },
          "metadata": {},
          "execution_count": 16
        }
      ]
    },
    {
      "cell_type": "code",
      "source": [
        "batsmen[-1]"
      ],
      "metadata": {
        "colab": {
          "base_uri": "https://localhost:8080/",
          "height": 36
        },
        "id": "DiHnmKasVC5H",
        "outputId": "2d4faf94-be26-442a-d8f9-cfc3a1e7be48"
      },
      "execution_count": 17,
      "outputs": [
        {
          "output_type": "execute_result",
          "data": {
            "text/plain": [
              "'Dhoni'"
            ],
            "application/vnd.google.colaboratory.intrinsic+json": {
              "type": "string"
            }
          },
          "metadata": {},
          "execution_count": 17
        }
      ]
    },
    {
      "cell_type": "code",
      "source": [
        "len(batsmen)"
      ],
      "metadata": {
        "colab": {
          "base_uri": "https://localhost:8080/"
        },
        "id": "k721M1_pVLkq",
        "outputId": "2308000a-e91d-4732-e664-35326f4faac1"
      },
      "execution_count": 18,
      "outputs": [
        {
          "output_type": "execute_result",
          "data": {
            "text/plain": [
              "6"
            ]
          },
          "metadata": {},
          "execution_count": 18
        }
      ]
    },
    {
      "cell_type": "code",
      "source": [
        "batsmen.index('Dhoni')"
      ],
      "metadata": {
        "colab": {
          "base_uri": "https://localhost:8080/"
        },
        "id": "uagKEzQzVNQ8",
        "outputId": "306ef5d9-17b4-4bea-9678-5dacb85cc283"
      },
      "execution_count": 19,
      "outputs": [
        {
          "output_type": "execute_result",
          "data": {
            "text/plain": [
              "5"
            ]
          },
          "metadata": {},
          "execution_count": 19
        }
      ]
    },
    {
      "cell_type": "code",
      "source": [
        "odiDebut = ('Kohli', 2008)\n"
      ],
      "metadata": {
        "id": "hp7Mg6T6VQz8"
      },
      "execution_count": 20,
      "outputs": []
    },
    {
      "cell_type": "code",
      "source": [
        "type(odiDebut)"
      ],
      "metadata": {
        "colab": {
          "base_uri": "https://localhost:8080/"
        },
        "id": "PcSXRNOiWJtw",
        "outputId": "b13da7e2-66f5-4352-edbb-725366f0b8c7"
      },
      "execution_count": 21,
      "outputs": [
        {
          "output_type": "execute_result",
          "data": {
            "text/plain": [
              "tuple"
            ]
          },
          "metadata": {},
          "execution_count": 21
        }
      ]
    },
    {
      "cell_type": "code",
      "source": [
        "odiDebut[1]=2009"
      ],
      "metadata": {
        "colab": {
          "base_uri": "https://localhost:8080/",
          "height": 147
        },
        "id": "0A5PzQLNWuwA",
        "outputId": "6333594f-8b2c-42bd-9ae4-3a2ee738645e"
      },
      "execution_count": 22,
      "outputs": [
        {
          "output_type": "error",
          "ename": "TypeError",
          "evalue": "'tuple' object does not support item assignment",
          "traceback": [
            "\u001b[0;31m---------------------------------------------------------------------------\u001b[0m",
            "\u001b[0;31mTypeError\u001b[0m                                 Traceback (most recent call last)",
            "\u001b[0;32m/tmp/ipython-input-3759823848.py\u001b[0m in \u001b[0;36m<cell line: 0>\u001b[0;34m()\u001b[0m\n\u001b[0;32m----> 1\u001b[0;31m \u001b[0modiDebut\u001b[0m\u001b[0;34m[\u001b[0m\u001b[0;36m1\u001b[0m\u001b[0;34m]\u001b[0m\u001b[0;34m=\u001b[0m\u001b[0;36m2009\u001b[0m\u001b[0;34m\u001b[0m\u001b[0;34m\u001b[0m\u001b[0m\n\u001b[0m",
            "\u001b[0;31mTypeError\u001b[0m: 'tuple' object does not support item assignment"
          ]
        }
      ]
    },
    {
      "cell_type": "code",
      "source": [
        "odiDebut2=('sachin',1989)"
      ],
      "metadata": {
        "id": "DWXOFbf4WOiy"
      },
      "execution_count": 23,
      "outputs": []
    },
    {
      "cell_type": "code",
      "source": [
        "print(odiDebut+odiDebut2)"
      ],
      "metadata": {
        "colab": {
          "base_uri": "https://localhost:8080/"
        },
        "id": "BlZCzcZ-Wk-G",
        "outputId": "54e176ac-0eee-4d3c-faf1-8d304ca340ab"
      },
      "execution_count": 24,
      "outputs": [
        {
          "output_type": "stream",
          "name": "stdout",
          "text": [
            "('Kohli', 2008, 'sachin', 1989)\n"
          ]
        }
      ]
    },
    {
      "cell_type": "code",
      "source": [
        "setOfNumbers = {6,1,1,2,4,5}\n"
      ],
      "metadata": {
        "id": "eO-a-zRmWpIK"
      },
      "execution_count": 25,
      "outputs": []
    },
    {
      "cell_type": "code",
      "source": [
        "type(setOfNumbers)"
      ],
      "metadata": {
        "colab": {
          "base_uri": "https://localhost:8080/"
        },
        "id": "MmqNwcXgXNo1",
        "outputId": "2c554e39-4980-40a2-b3ca-5517798789b2"
      },
      "execution_count": 26,
      "outputs": [
        {
          "output_type": "execute_result",
          "data": {
            "text/plain": [
              "set"
            ]
          },
          "metadata": {},
          "execution_count": 26
        }
      ]
    },
    {
      "cell_type": "code",
      "source": [
        "setOfNumbers"
      ],
      "metadata": {
        "colab": {
          "base_uri": "https://localhost:8080/"
        },
        "id": "7GzXeAYgXPuJ",
        "outputId": "cf753000-90e0-4b5a-c7f3-a45d1af92713"
      },
      "execution_count": 27,
      "outputs": [
        {
          "output_type": "execute_result",
          "data": {
            "text/plain": [
              "{1, 2, 4, 5, 6}"
            ]
          },
          "metadata": {},
          "execution_count": 27
        }
      ]
    },
    {
      "cell_type": "code",
      "source": [
        "wcWinners = {\n",
        "1975:'West Indies',\n",
        "1979:'West Indies',\n",
        "1983:'India',\n",
        "1987:'Australia',\n",
        "1991:'Pakistan',\n",
        "1996: 'Sri Lanka',\n",
        "1999: 'Australia',\n",
        "2003: 'Australia',\n",
        "2007: 'Australia',\n",
        "2011: 'India'\n",
        "}\n"
      ],
      "metadata": {
        "id": "UlwmWZabXSsl"
      },
      "execution_count": 28,
      "outputs": []
    },
    {
      "cell_type": "code",
      "source": [
        "import numpy as np\n"
      ],
      "metadata": {
        "id": "_gXj6qaZc0f5"
      },
      "execution_count": 29,
      "outputs": []
    },
    {
      "cell_type": "code",
      "source": [
        "a=np.array([1,2,3,4])"
      ],
      "metadata": {
        "id": "NARtgq86dbe3"
      },
      "execution_count": 30,
      "outputs": []
    },
    {
      "cell_type": "code",
      "source": [
        "type(a)"
      ],
      "metadata": {
        "colab": {
          "base_uri": "https://localhost:8080/"
        },
        "id": "Zqckhaj2dgoD",
        "outputId": "96c730de-6e57-4395-c8a8-06cc9736d395"
      },
      "execution_count": 31,
      "outputs": [
        {
          "output_type": "execute_result",
          "data": {
            "text/plain": [
              "numpy.ndarray"
            ]
          },
          "metadata": {},
          "execution_count": 31
        }
      ]
    },
    {
      "cell_type": "code",
      "source": [
        "a.shape"
      ],
      "metadata": {
        "colab": {
          "base_uri": "https://localhost:8080/"
        },
        "id": "sLFI5lFcdhMV",
        "outputId": "35c5b9eb-9825-4ab9-950b-50807590c94b"
      },
      "execution_count": 32,
      "outputs": [
        {
          "output_type": "execute_result",
          "data": {
            "text/plain": [
              "(4,)"
            ]
          },
          "metadata": {},
          "execution_count": 32
        }
      ]
    },
    {
      "cell_type": "code",
      "source": [
        "a.size"
      ],
      "metadata": {
        "colab": {
          "base_uri": "https://localhost:8080/"
        },
        "id": "jy9lm0yGdjI2",
        "outputId": "b9e0537d-20f7-4400-e12e-b1375f084622"
      },
      "execution_count": 33,
      "outputs": [
        {
          "output_type": "execute_result",
          "data": {
            "text/plain": [
              "4"
            ]
          },
          "metadata": {},
          "execution_count": 33
        }
      ]
    },
    {
      "cell_type": "code",
      "source": [
        "b=np.array([[1,2,3,4],[5,6,7,8]])"
      ],
      "metadata": {
        "id": "rzPJ7gjmdkE3"
      },
      "execution_count": 34,
      "outputs": []
    },
    {
      "cell_type": "code",
      "source": [
        "type(b)"
      ],
      "metadata": {
        "colab": {
          "base_uri": "https://localhost:8080/"
        },
        "id": "DP5nkfmgeH6E",
        "outputId": "25c0ac66-543a-44a0-ce99-27e8afa2e903"
      },
      "execution_count": 35,
      "outputs": [
        {
          "output_type": "execute_result",
          "data": {
            "text/plain": [
              "numpy.ndarray"
            ]
          },
          "metadata": {},
          "execution_count": 35
        }
      ]
    },
    {
      "cell_type": "code",
      "source": [
        "b.shape"
      ],
      "metadata": {
        "colab": {
          "base_uri": "https://localhost:8080/"
        },
        "id": "LshC9kg3eI8W",
        "outputId": "91b1ffd3-7852-4871-d0de-2a1bb7c04b3b"
      },
      "execution_count": 36,
      "outputs": [
        {
          "output_type": "execute_result",
          "data": {
            "text/plain": [
              "(2, 4)"
            ]
          },
          "metadata": {},
          "execution_count": 36
        }
      ]
    },
    {
      "cell_type": "code",
      "source": [
        "b"
      ],
      "metadata": {
        "colab": {
          "base_uri": "https://localhost:8080/"
        },
        "id": "nV56Ov9PeKjU",
        "outputId": "524efabd-1a54-4e2b-982f-f3d08ef81589"
      },
      "execution_count": 37,
      "outputs": [
        {
          "output_type": "execute_result",
          "data": {
            "text/plain": [
              "array([[1, 2, 3, 4],\n",
              "       [5, 6, 7, 8]])"
            ]
          },
          "metadata": {},
          "execution_count": 37
        }
      ]
    },
    {
      "cell_type": "code",
      "source": [
        "b.size"
      ],
      "metadata": {
        "colab": {
          "base_uri": "https://localhost:8080/"
        },
        "id": "NQaIFTc2eNHa",
        "outputId": "17a9eb9b-f035-4052-9abd-0d743f0f8818"
      },
      "execution_count": 38,
      "outputs": [
        {
          "output_type": "execute_result",
          "data": {
            "text/plain": [
              "8"
            ]
          },
          "metadata": {},
          "execution_count": 38
        }
      ]
    },
    {
      "cell_type": "code",
      "source": [
        "#to get first row elements\n",
        "b[0]"
      ],
      "metadata": {
        "colab": {
          "base_uri": "https://localhost:8080/"
        },
        "id": "l8cAF2ZFeQEP",
        "outputId": "2b53c06e-ad54-4ea3-8e31-d85d015053b1"
      },
      "execution_count": 39,
      "outputs": [
        {
          "output_type": "execute_result",
          "data": {
            "text/plain": [
              "array([1, 2, 3, 4])"
            ]
          },
          "metadata": {},
          "execution_count": 39
        }
      ]
    },
    {
      "cell_type": "code",
      "source": [
        "b[0][0]"
      ],
      "metadata": {
        "colab": {
          "base_uri": "https://localhost:8080/"
        },
        "id": "IT81WBOJeu8i",
        "outputId": "0f15f1eb-20cc-4f66-cad6-cfd1441ede63"
      },
      "execution_count": 40,
      "outputs": [
        {
          "output_type": "execute_result",
          "data": {
            "text/plain": [
              "np.int64(1)"
            ]
          },
          "metadata": {},
          "execution_count": 40
        }
      ]
    },
    {
      "cell_type": "code",
      "source": [
        "c=b.reshape(4,2)"
      ],
      "metadata": {
        "id": "MMfjOYQhe51X"
      },
      "execution_count": 41,
      "outputs": []
    },
    {
      "cell_type": "code",
      "source": [
        "c"
      ],
      "metadata": {
        "colab": {
          "base_uri": "https://localhost:8080/"
        },
        "id": "shoxHMEBfac2",
        "outputId": "e7206038-a165-4f30-a06d-5f97fed2eda4"
      },
      "execution_count": 42,
      "outputs": [
        {
          "output_type": "execute_result",
          "data": {
            "text/plain": [
              "array([[1, 2],\n",
              "       [3, 4],\n",
              "       [5, 6],\n",
              "       [7, 8]])"
            ]
          },
          "metadata": {},
          "execution_count": 42
        }
      ]
    },
    {
      "cell_type": "code",
      "source": [
        "c.shape"
      ],
      "metadata": {
        "colab": {
          "base_uri": "https://localhost:8080/"
        },
        "id": "WX61Xxc6fgUr",
        "outputId": "faef20ed-f6c5-435b-be73-cb73c8d58768"
      },
      "execution_count": 43,
      "outputs": [
        {
          "output_type": "execute_result",
          "data": {
            "text/plain": [
              "(4, 2)"
            ]
          },
          "metadata": {},
          "execution_count": 43
        }
      ]
    },
    {
      "cell_type": "code",
      "source": [
        "b.shape"
      ],
      "metadata": {
        "colab": {
          "base_uri": "https://localhost:8080/"
        },
        "id": "mYElnRW8fpcK",
        "outputId": "7164f749-5718-4aef-abb8-983b50675386"
      },
      "execution_count": 44,
      "outputs": [
        {
          "output_type": "execute_result",
          "data": {
            "text/plain": [
              "(2, 4)"
            ]
          },
          "metadata": {},
          "execution_count": 44
        }
      ]
    },
    {
      "cell_type": "code",
      "source": [
        "print(a.sum())\n",
        "print(a)"
      ],
      "metadata": {
        "colab": {
          "base_uri": "https://localhost:8080/"
        },
        "id": "C9THuZ0nfrsp",
        "outputId": "64c4081a-5f94-43aa-e96b-5cc31020fe1f"
      },
      "execution_count": 45,
      "outputs": [
        {
          "output_type": "stream",
          "name": "stdout",
          "text": [
            "10\n",
            "[1 2 3 4]\n"
          ]
        }
      ]
    },
    {
      "cell_type": "code",
      "source": [
        "a.prod()"
      ],
      "metadata": {
        "colab": {
          "base_uri": "https://localhost:8080/"
        },
        "id": "Iv5CYr3rfvw1",
        "outputId": "355cb83f-ffe9-4a5c-bbec-acb03c58b5a3"
      },
      "execution_count": 46,
      "outputs": [
        {
          "output_type": "execute_result",
          "data": {
            "text/plain": [
              "np.int64(24)"
            ]
          },
          "metadata": {},
          "execution_count": 46
        }
      ]
    },
    {
      "cell_type": "code",
      "source": [
        "b"
      ],
      "metadata": {
        "colab": {
          "base_uri": "https://localhost:8080/"
        },
        "id": "jwYsn9imgVA1",
        "outputId": "880aa8ce-2557-42d5-9e09-c492ed36baad"
      },
      "execution_count": 47,
      "outputs": [
        {
          "output_type": "execute_result",
          "data": {
            "text/plain": [
              "array([[1, 2, 3, 4],\n",
              "       [5, 6, 7, 8]])"
            ]
          },
          "metadata": {},
          "execution_count": 47
        }
      ]
    },
    {
      "cell_type": "code",
      "source": [
        "#to find row elements R1+R2\n",
        "b.sum(axis=0)"
      ],
      "metadata": {
        "colab": {
          "base_uri": "https://localhost:8080/"
        },
        "id": "8HwlHvvTfx_3",
        "outputId": "4a83e750-c573-461f-ca94-6371b2faef2f"
      },
      "execution_count": 48,
      "outputs": [
        {
          "output_type": "execute_result",
          "data": {
            "text/plain": [
              "array([ 6,  8, 10, 12])"
            ]
          },
          "metadata": {},
          "execution_count": 48
        }
      ]
    },
    {
      "cell_type": "code",
      "source": [
        "# to find column wise addition\n",
        "b.sum(axis=1)"
      ],
      "metadata": {
        "colab": {
          "base_uri": "https://localhost:8080/"
        },
        "id": "b8IgS1xdgOzv",
        "outputId": "7b064389-1898-4636-dd7b-46c14ac09209"
      },
      "execution_count": 49,
      "outputs": [
        {
          "output_type": "execute_result",
          "data": {
            "text/plain": [
              "array([10, 26])"
            ]
          },
          "metadata": {},
          "execution_count": 49
        }
      ]
    },
    {
      "cell_type": "code",
      "source": [
        "# 1. Creating a NumPy array\n",
        "# NumPy's primary object is the homogeneous multidimensional array.\n",
        "import numpy as np\n",
        "a = np.array([1, 2, 3, 4, 5])\n",
        "print(\"1. Created a NumPy array:\", a)\n",
        "\n",
        "# 2. Performing mathematical operations\n",
        "# You can perform element-wise mathematical operations on arrays.\n",
        "b = np.array([5, 4, 3, 2, 1])\n",
        "c = a + b\n",
        "print(\"2. Element-wise addition of two arrays:\", c)\n",
        "\n",
        "# 3. Indexing and Slicing\n",
        "# NumPy offers comprehensive indexing and slicing capabilities.\n",
        "print(\"3. First element of the array:\", a[0])\n",
        "print(\"   Elements from index 1 to 3:\", a[1:4])\n",
        "\n",
        "# 4. Reshaping arrays\n",
        "# You can change the shape of an array.\n",
        "d = np.array([[1, 2, 3], [4, 5, 6]])\n",
        "e = d.reshape(3, 2)\n",
        "print(\"4. Reshaped array:\\n\", e)\n",
        "\n",
        "# 5. Stacking arrays\n",
        "# You can stack arrays vertically or horizontally.\n",
        "f = np.array([7, 8, 9])\n",
        "g = np.vstack((a,b))\n",
        "print(\"5. Vertically stacked arrays:\\n\", g)"
      ],
      "metadata": {
        "colab": {
          "base_uri": "https://localhost:8080/"
        },
        "id": "75TEotsDgopH",
        "outputId": "dd390470-4606-457e-e274-05f3c6cd3f2f"
      },
      "execution_count": 50,
      "outputs": [
        {
          "output_type": "stream",
          "name": "stdout",
          "text": [
            "1. Created a NumPy array: [1 2 3 4 5]\n",
            "2. Element-wise addition of two arrays: [6 6 6 6 6]\n",
            "3. First element of the array: 1\n",
            "   Elements from index 1 to 3: [2 3 4]\n",
            "4. Reshaped array:\n",
            " [[1 2]\n",
            " [3 4]\n",
            " [5 6]]\n",
            "5. Vertically stacked arrays:\n",
            " [[1 2 3 4 5]\n",
            " [5 4 3 2 1]]\n"
          ]
        }
      ]
    },
    {
      "cell_type": "code",
      "metadata": {
        "id": "9bb91b4a",
        "outputId": "ca81115f-effb-4688-d920-68d8b9ac2df2",
        "colab": {
          "base_uri": "https://localhost:8080/"
        }
      },
      "source": [
        "import numpy as np\n",
        "\n",
        "# Create a 3x3 array\n",
        "array_a = np.array([[1, 2, 3],\n",
        "                    [4, 5, 6],\n",
        "                    [7, 8, 9]])\n",
        "\n",
        "# Create a 1D array (or a scalar)\n",
        "scalar_b = 10\n",
        "\n",
        "# Add the scalar to the array. NumPy broadcasts the scalar to each element.\n",
        "result_array = array_a + scalar_b\n",
        "\n",
        "print(\"Original Array:\\n\", array_a)\n",
        "print(\"\\nScalar to add:\", scalar_b)\n",
        "print(\"\\nResult after broadcasting:\\n\", result_array)"
      ],
      "execution_count": 51,
      "outputs": [
        {
          "output_type": "stream",
          "name": "stdout",
          "text": [
            "Original Array:\n",
            " [[1 2 3]\n",
            " [4 5 6]\n",
            " [7 8 9]]\n",
            "\n",
            "Scalar to add: 10\n",
            "\n",
            "Result after broadcasting:\n",
            " [[11 12 13]\n",
            " [14 15 16]\n",
            " [17 18 19]]\n"
          ]
        }
      ]
    },
    {
      "cell_type": "code",
      "source": [],
      "metadata": {
        "id": "7xfCCHyX1aSN"
      },
      "execution_count": 51,
      "outputs": []
    }
  ]
}